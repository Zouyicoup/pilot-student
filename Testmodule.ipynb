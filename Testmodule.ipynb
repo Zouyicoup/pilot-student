{
 "cells": [
  {
   "cell_type": "code",
   "execution_count": null,
   "metadata": {},
   "outputs": [],
   "source": [
    "from math import sqrt\n",
    "\n",
    "def is_prime_Yi(n):\n",
    "    \"\"\"Return a boolean value based upon whether the argument n is a prime number.\"\"\"\n",
    "    if n < 2:\n",
    "        return False\n",
    "    \n",
    "    if n in (2, 3):\n",
    "        return True\n",
    "\n",
    "    for i in range(2, int(sqrt(n)) + 1):\n",
    "        if n % i == 0:\n",
    "            return False\n",
    "        \n",
    "    return True\n",
    "\n",
    "def say_hi_Yi(*names, greeting='Hi', capitalized=False):\n",
    "    \"\"\"\n",
    "    Print a string, with a greeting to everyone.\n",
    "    :param *names: tuple of names to be greeted.\n",
    "    :param greeting: 'Hi' as default.\n",
    "    :param capitalized: Whether name should be converted to capitalized before print. False as default.\n",
    "    :returns: None\n",
    "    \"\"\"\n",
    "    for name in names:\n",
    "        if capitalized:\n",
    "            name = name.capitalize()\n",
    "        print(f'{greeting}, {name}!')"
   ]
  }
 ],
 "metadata": {
  "kernelspec": {
   "display_name": "Python 3",
   "language": "python",
   "name": "python3"
  },
  "language_info": {
   "codemirror_mode": {
    "name": "ipython",
    "version": 3
   },
   "file_extension": ".py",
   "mimetype": "text/x-python",
   "name": "python",
   "nbconvert_exporter": "python",
   "pygments_lexer": "ipython3",
   "version": "3.7.4"
  }
 },
 "nbformat": 4,
 "nbformat_minor": 2
}
